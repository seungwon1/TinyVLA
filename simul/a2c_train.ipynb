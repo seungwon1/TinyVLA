{
 "cells": [
  {
   "cell_type": "code",
   "execution_count": 1,
   "metadata": {},
   "outputs": [],
   "source": [
    "import os\n",
    "\n",
    "import gymnasium as gym\n",
    "import panda_gym\n",
    "\n",
    "from huggingface_sb3 import load_from_hub, package_to_hub\n",
    "\n",
    "from stable_baselines3 import A2C\n",
    "from stable_baselines3.common.evaluation import evaluate_policy\n",
    "from stable_baselines3.common.vec_env import DummyVecEnv, VecNormalize\n",
    "from stable_baselines3.common.env_util import make_vec_env\n",
    "\n",
    "from huggingface_hub import notebook_login"
   ]
  },
  {
   "cell_type": "code",
   "execution_count": 8,
   "metadata": {},
   "outputs": [],
   "source": [
    "# from pyvirtualdisplay import Display\n",
    "\n",
    "# virtual_display = Display(size=(800, 600))\n",
    "# virtual_display.start()"
   ]
  },
  {
   "cell_type": "code",
   "execution_count": 3,
   "metadata": {},
   "outputs": [
    {
     "name": "stderr",
     "output_type": "stream",
     "text": [
      "pybullet build time: Nov 28 2023 23:45:17\n"
     ]
    },
    {
     "name": "stdout",
     "output_type": "stream",
     "text": [
      "argv[0]=--background_color_red=0.8745098114013672\n",
      "argv[1]=--background_color_green=0.21176470816135406\n",
      "argv[2]=--background_color_blue=0.1764705926179886\n",
      "_____OBSERVATION SPACE_____ \n",
      "\n",
      "The State Space is:  None\n",
      "OrderedDict([('achieved_goal',\n",
      "              array([ 8.043323  , -0.30956247, -4.005812  ], dtype=float32)),\n",
      "             ('desired_goal',\n",
      "              array([-5.0989976,  2.0190792, -6.2817397], dtype=float32)),\n",
      "             ('observation',\n",
      "              array([-9.312097  , -0.2508565 ,  0.4942576 ,  3.6731558 , -3.8455138 ,\n",
      "        0.14373663], dtype=float32))])\n"
     ]
    }
   ],
   "source": [
    "# create environment\n",
    "import pprint\n",
    "\n",
    "env_id = \"PandaReachDense-v3\"\n",
    "env = gym.make(env_id)\n",
    "\n",
    "# state & action\n",
    "s_size = env.observation_space.shape\n",
    "a_size = env.action_space.shape\n",
    "\n",
    "print(\"_____OBSERVATION SPACE_____ \\n\")\n",
    "print(\"The State Space is: \", s_size)\n",
    "# print(\"Sample observation\", env.observation_space.sample())  # Get a random observation\n",
    "obs1 = env.observation_space.sample()\n",
    "pprint.pp(obs1)"
   ]
  },
  {
   "cell_type": "code",
   "execution_count": 4,
   "metadata": {},
   "outputs": [
    {
     "name": "stdout",
     "output_type": "stream",
     "text": [
      "\n",
      " _____ACTION SPACE_____ \n",
      "\n",
      "The Action Space is:  (3,)\n",
      "Action Space Sample [ 0.54129237  0.8569818  -0.3596969 ]\n"
     ]
    }
   ],
   "source": [
    "print(\"\\n _____ACTION SPACE_____ \\n\")\n",
    "print(\"The Action Space is: \", a_size)\n",
    "print(\"Action Space Sample\", env.action_space.sample())  # Take a random action"
   ]
  },
  {
   "cell_type": "code",
   "execution_count": 5,
   "metadata": {},
   "outputs": [
    {
     "name": "stdout",
     "output_type": "stream",
     "text": [
      "argv[0]=--background_color_red=0.8745098114013672\n",
      "argv[1]=--background_color_green=0.21176470816135406\n",
      "argv[2]=--background_color_blue=0.1764705926179886\n",
      "argv[0]=--background_color_red=0.8745098114013672\n",
      "argv[1]=--background_color_green=0.21176470816135406\n",
      "argv[2]=--background_color_blue=0.1764705926179886\n",
      "argv[0]=--background_color_red=0.8745098114013672\n",
      "argv[1]=--background_color_green=0.21176470816135406\n",
      "argv[2]=--background_color_blue=0.1764705926179886\n",
      "argv[0]=--background_color_red=0.8745098114013672\n",
      "argv[1]=--background_color_green=0.21176470816135406\n",
      "argv[2]=--background_color_blue=0.1764705926179886\n",
      "Using cuda device\n"
     ]
    },
    {
     "data": {
      "application/vnd.jupyter.widget-view+json": {
       "model_id": "5dd1bb9238de41d58bc8b13b67ae67b8",
       "version_major": 2,
       "version_minor": 0
      },
      "text/plain": [
       "Output()"
      ]
     },
     "metadata": {},
     "output_type": "display_data"
    },
    {
     "name": "stdout",
     "output_type": "stream",
     "text": [
      "------------------------------------\n",
      "| rollout/              |          |\n",
      "|    ep_len_mean        | 41.2     |\n",
      "|    ep_rew_mean        | -10.6    |\n",
      "|    success_rate       | 0.222    |\n",
      "| time/                 |          |\n",
      "|    fps                | 484      |\n",
      "|    iterations         | 100      |\n",
      "|    time_elapsed       | 4        |\n",
      "|    total_timesteps    | 2000     |\n",
      "| train/                |          |\n",
      "|    entropy_loss       | -4.28    |\n",
      "|    explained_variance | 0.661    |\n",
      "|    learning_rate      | 0.0007   |\n",
      "|    n_updates          | 99       |\n",
      "|    policy_loss        | -0.519   |\n",
      "|    std                | 1.01     |\n",
      "|    value_loss         | 0.0884   |\n",
      "------------------------------------\n"
     ]
    },
    {
     "name": "stdout",
     "output_type": "stream",
     "text": [
      "------------------------------------\n",
      "| rollout/              |          |\n",
      "|    ep_len_mean        | 43.7     |\n",
      "|    ep_rew_mean        | -11.5    |\n",
      "|    success_rate       | 0.157    |\n",
      "| time/                 |          |\n",
      "|    fps                | 512      |\n",
      "|    iterations         | 200      |\n",
      "|    time_elapsed       | 7        |\n",
      "|    total_timesteps    | 4000     |\n",
      "| train/                |          |\n",
      "|    entropy_loss       | -4.31    |\n",
      "|    explained_variance | 0.859    |\n",
      "|    learning_rate      | 0.0007   |\n",
      "|    n_updates          | 199      |\n",
      "|    policy_loss        | 0.353    |\n",
      "|    std                | 1.02     |\n",
      "|    value_loss         | 0.263    |\n",
      "------------------------------------\n"
     ]
    },
    {
     "name": "stdout",
     "output_type": "stream",
     "text": [
      "------------------------------------\n",
      "| rollout/              |          |\n",
      "|    ep_len_mean        | 44.4     |\n",
      "|    ep_rew_mean        | -11.5    |\n",
      "|    success_rate       | 0.15     |\n",
      "| time/                 |          |\n",
      "|    fps                | 522      |\n",
      "|    iterations         | 300      |\n",
      "|    time_elapsed       | 11       |\n",
      "|    total_timesteps    | 6000     |\n",
      "| train/                |          |\n",
      "|    entropy_loss       | -4.32    |\n",
      "|    explained_variance | 0.95     |\n",
      "|    learning_rate      | 0.0007   |\n",
      "|    n_updates          | 299      |\n",
      "|    policy_loss        | -0.0121  |\n",
      "|    std                | 1.02     |\n",
      "|    value_loss         | 0.0532   |\n",
      "------------------------------------\n"
     ]
    },
    {
     "name": "stdout",
     "output_type": "stream",
     "text": [
      "------------------------------------\n",
      "| rollout/              |          |\n",
      "|    ep_len_mean        | 42.3     |\n",
      "|    ep_rew_mean        | -10.7    |\n",
      "|    success_rate       | 0.21     |\n",
      "| time/                 |          |\n",
      "|    fps                | 523      |\n",
      "|    iterations         | 400      |\n",
      "|    time_elapsed       | 15       |\n",
      "|    total_timesteps    | 8000     |\n",
      "| train/                |          |\n",
      "|    entropy_loss       | -4.33    |\n",
      "|    explained_variance | 0.943    |\n",
      "|    learning_rate      | 0.0007   |\n",
      "|    n_updates          | 399      |\n",
      "|    policy_loss        | -0.551   |\n",
      "|    std                | 1.03     |\n",
      "|    value_loss         | 0.118    |\n",
      "------------------------------------\n"
     ]
    },
    {
     "name": "stdout",
     "output_type": "stream",
     "text": [
      "------------------------------------\n",
      "| rollout/              |          |\n",
      "|    ep_len_mean        | 38.9     |\n",
      "|    ep_rew_mean        | -9.66    |\n",
      "|    success_rate       | 0.28     |\n",
      "| time/                 |          |\n",
      "|    fps                | 525      |\n",
      "|    iterations         | 500      |\n",
      "|    time_elapsed       | 19       |\n",
      "|    total_timesteps    | 10000    |\n",
      "| train/                |          |\n",
      "|    entropy_loss       | -4.33    |\n",
      "|    explained_variance | 0.763    |\n",
      "|    learning_rate      | 0.0007   |\n",
      "|    n_updates          | 499      |\n",
      "|    policy_loss        | -0.253   |\n",
      "|    std                | 1.03     |\n",
      "|    value_loss         | 0.0549   |\n",
      "------------------------------------\n"
     ]
    },
    {
     "name": "stdout",
     "output_type": "stream",
     "text": [
      "------------------------------------\n",
      "| rollout/              |          |\n",
      "|    ep_len_mean        | 38       |\n",
      "|    ep_rew_mean        | -9.29    |\n",
      "|    success_rate       | 0.29     |\n",
      "| time/                 |          |\n",
      "|    fps                | 524      |\n",
      "|    iterations         | 600      |\n",
      "|    time_elapsed       | 22       |\n",
      "|    total_timesteps    | 12000    |\n",
      "| train/                |          |\n",
      "|    entropy_loss       | -4.34    |\n",
      "|    explained_variance | 0.76     |\n",
      "|    learning_rate      | 0.0007   |\n",
      "|    n_updates          | 599      |\n",
      "|    policy_loss        | 2.16     |\n",
      "|    std                | 1.03     |\n",
      "|    value_loss         | 1.37     |\n",
      "------------------------------------\n"
     ]
    },
    {
     "name": "stdout",
     "output_type": "stream",
     "text": [
      "------------------------------------\n",
      "| rollout/              |          |\n",
      "|    ep_len_mean        | 38.9     |\n",
      "|    ep_rew_mean        | -8.56    |\n",
      "|    success_rate       | 0.28     |\n",
      "| time/                 |          |\n",
      "|    fps                | 521      |\n",
      "|    iterations         | 700      |\n",
      "|    time_elapsed       | 26       |\n",
      "|    total_timesteps    | 14000    |\n",
      "| train/                |          |\n",
      "|    entropy_loss       | -4.37    |\n",
      "|    explained_variance | 0.0209   |\n",
      "|    learning_rate      | 0.0007   |\n",
      "|    n_updates          | 699      |\n",
      "|    policy_loss        | 6.03     |\n",
      "|    std                | 1.04     |\n",
      "|    value_loss         | 7.24     |\n",
      "------------------------------------\n"
     ]
    },
    {
     "name": "stdout",
     "output_type": "stream",
     "text": [
      "------------------------------------\n",
      "| rollout/              |          |\n",
      "|    ep_len_mean        | 38       |\n",
      "|    ep_rew_mean        | -8.28    |\n",
      "|    success_rate       | 0.32     |\n",
      "| time/                 |          |\n",
      "|    fps                | 521      |\n",
      "|    iterations         | 800      |\n",
      "|    time_elapsed       | 30       |\n",
      "|    total_timesteps    | 16000    |\n",
      "| train/                |          |\n",
      "|    entropy_loss       | -4.39    |\n",
      "|    explained_variance | 0.715    |\n",
      "|    learning_rate      | 0.0007   |\n",
      "|    n_updates          | 799      |\n",
      "|    policy_loss        | 0.0347   |\n",
      "|    std                | 1.05     |\n",
      "|    value_loss         | 0.0975   |\n",
      "------------------------------------\n"
     ]
    },
    {
     "name": "stdout",
     "output_type": "stream",
     "text": [
      "------------------------------------\n",
      "| rollout/              |          |\n",
      "|    ep_len_mean        | 39.2     |\n",
      "|    ep_rew_mean        | -8.53    |\n",
      "|    success_rate       | 0.31     |\n",
      "| time/                 |          |\n",
      "|    fps                | 523      |\n",
      "|    iterations         | 900      |\n",
      "|    time_elapsed       | 34       |\n",
      "|    total_timesteps    | 18000    |\n",
      "| train/                |          |\n",
      "|    entropy_loss       | -4.39    |\n",
      "|    explained_variance | 0.987    |\n",
      "|    learning_rate      | 0.0007   |\n",
      "|    n_updates          | 899      |\n",
      "|    policy_loss        | 0.186    |\n",
      "|    std                | 1.05     |\n",
      "|    value_loss         | 0.0189   |\n",
      "------------------------------------\n"
     ]
    },
    {
     "name": "stdout",
     "output_type": "stream",
     "text": [
      "------------------------------------\n",
      "| rollout/              |          |\n",
      "|    ep_len_mean        | 41       |\n",
      "|    ep_rew_mean        | -8.31    |\n",
      "|    success_rate       | 0.27     |\n",
      "| time/                 |          |\n",
      "|    fps                | 524      |\n",
      "|    iterations         | 1000     |\n",
      "|    time_elapsed       | 38       |\n",
      "|    total_timesteps    | 20000    |\n",
      "| train/                |          |\n",
      "|    entropy_loss       | -4.39    |\n",
      "|    explained_variance | 0.975    |\n",
      "|    learning_rate      | 0.0007   |\n",
      "|    n_updates          | 999      |\n",
      "|    policy_loss        | -0.09    |\n",
      "|    std                | 1.04     |\n",
      "|    value_loss         | 0.0133   |\n",
      "------------------------------------\n"
     ]
    },
    {
     "name": "stdout",
     "output_type": "stream",
     "text": [
      "------------------------------------\n",
      "| rollout/              |          |\n",
      "|    ep_len_mean        | 40.9     |\n",
      "|    ep_rew_mean        | -7.9     |\n",
      "|    success_rate       | 0.28     |\n",
      "| time/                 |          |\n",
      "|    fps                | 525      |\n",
      "|    iterations         | 1100     |\n",
      "|    time_elapsed       | 41       |\n",
      "|    total_timesteps    | 22000    |\n",
      "| train/                |          |\n",
      "|    entropy_loss       | -4.39    |\n",
      "|    explained_variance | 0.992    |\n",
      "|    learning_rate      | 0.0007   |\n",
      "|    n_updates          | 1099     |\n",
      "|    policy_loss        | 0.166    |\n",
      "|    std                | 1.05     |\n",
      "|    value_loss         | 0.01     |\n",
      "------------------------------------\n"
     ]
    },
    {
     "name": "stdout",
     "output_type": "stream",
     "text": [
      "------------------------------------\n",
      "| rollout/              |          |\n",
      "|    ep_len_mean        | 35.5     |\n",
      "|    ep_rew_mean        | -6.05    |\n",
      "|    success_rate       | 0.46     |\n",
      "| time/                 |          |\n",
      "|    fps                | 526      |\n",
      "|    iterations         | 1200     |\n",
      "|    time_elapsed       | 45       |\n",
      "|    total_timesteps    | 24000    |\n",
      "| train/                |          |\n",
      "|    entropy_loss       | -4.37    |\n",
      "|    explained_variance | 0.994    |\n",
      "|    learning_rate      | 0.0007   |\n",
      "|    n_updates          | 1199     |\n",
      "|    policy_loss        | -0.0191  |\n",
      "|    std                | 1.04     |\n",
      "|    value_loss         | 0.0165   |\n",
      "------------------------------------\n"
     ]
    },
    {
     "name": "stdout",
     "output_type": "stream",
     "text": [
      "------------------------------------\n",
      "| rollout/              |          |\n",
      "|    ep_len_mean        | 27.3     |\n",
      "|    ep_rew_mean        | -4.31    |\n",
      "|    success_rate       | 0.62     |\n",
      "| time/                 |          |\n",
      "|    fps                | 526      |\n",
      "|    iterations         | 1300     |\n",
      "|    time_elapsed       | 49       |\n",
      "|    total_timesteps    | 26000    |\n",
      "| train/                |          |\n",
      "|    entropy_loss       | -4.35    |\n",
      "|    explained_variance | -0.145   |\n",
      "|    learning_rate      | 0.0007   |\n",
      "|    n_updates          | 1299     |\n",
      "|    policy_loss        | 1.59     |\n",
      "|    std                | 1.03     |\n",
      "|    value_loss         | 1.92     |\n",
      "------------------------------------\n"
     ]
    },
    {
     "name": "stdout",
     "output_type": "stream",
     "text": [
      "------------------------------------\n",
      "| rollout/              |          |\n",
      "|    ep_len_mean        | 24.2     |\n",
      "|    ep_rew_mean        | -3.34    |\n",
      "|    success_rate       | 0.71     |\n",
      "| time/                 |          |\n",
      "|    fps                | 526      |\n",
      "|    iterations         | 1400     |\n",
      "|    time_elapsed       | 53       |\n",
      "|    total_timesteps    | 28000    |\n",
      "| train/                |          |\n",
      "|    entropy_loss       | -4.32    |\n",
      "|    explained_variance | 0.78     |\n",
      "|    learning_rate      | 0.0007   |\n",
      "|    n_updates          | 1399     |\n",
      "|    policy_loss        | 0.391    |\n",
      "|    std                | 1.02     |\n",
      "|    value_loss         | 0.322    |\n",
      "------------------------------------\n"
     ]
    },
    {
     "name": "stdout",
     "output_type": "stream",
     "text": [
      "------------------------------------\n",
      "| rollout/              |          |\n",
      "|    ep_len_mean        | 12.9     |\n",
      "|    ep_rew_mean        | -1.44    |\n",
      "|    success_rate       | 0.95     |\n",
      "| time/                 |          |\n",
      "|    fps                | 527      |\n",
      "|    iterations         | 1500     |\n",
      "|    time_elapsed       | 56       |\n",
      "|    total_timesteps    | 30000    |\n",
      "| train/                |          |\n",
      "|    entropy_loss       | -4.29    |\n",
      "|    explained_variance | 0.013    |\n",
      "|    learning_rate      | 0.0007   |\n",
      "|    n_updates          | 1499     |\n",
      "|    policy_loss        | 0.624    |\n",
      "|    std                | 1.01     |\n",
      "|    value_loss         | 0.405    |\n",
      "------------------------------------\n"
     ]
    },
    {
     "name": "stdout",
     "output_type": "stream",
     "text": [
      "------------------------------------\n",
      "| rollout/              |          |\n",
      "|    ep_len_mean        | 8.55     |\n",
      "|    ep_rew_mean        | -0.801   |\n",
      "|    success_rate       | 1        |\n",
      "| time/                 |          |\n",
      "|    fps                | 528      |\n",
      "|    iterations         | 1600     |\n",
      "|    time_elapsed       | 60       |\n",
      "|    total_timesteps    | 32000    |\n",
      "| train/                |          |\n",
      "|    entropy_loss       | -4.26    |\n",
      "|    explained_variance | -0.645   |\n",
      "|    learning_rate      | 0.0007   |\n",
      "|    n_updates          | 1599     |\n",
      "|    policy_loss        | -0.493   |\n",
      "|    std                | 1        |\n",
      "|    value_loss         | 0.0247   |\n",
      "------------------------------------\n"
     ]
    },
    {
     "name": "stdout",
     "output_type": "stream",
     "text": [
      "------------------------------------\n",
      "| rollout/              |          |\n",
      "|    ep_len_mean        | 5.53     |\n",
      "|    ep_rew_mean        | -0.48    |\n",
      "|    success_rate       | 1        |\n",
      "| time/                 |          |\n",
      "|    fps                | 529      |\n",
      "|    iterations         | 1700     |\n",
      "|    time_elapsed       | 64       |\n",
      "|    total_timesteps    | 34000    |\n",
      "| train/                |          |\n",
      "|    entropy_loss       | -4.24    |\n",
      "|    explained_variance | 0.00636  |\n",
      "|    learning_rate      | 0.0007   |\n",
      "|    n_updates          | 1699     |\n",
      "|    policy_loss        | -0.2     |\n",
      "|    std                | 0.995    |\n",
      "|    value_loss         | 0.0255   |\n",
      "------------------------------------\n"
     ]
    },
    {
     "name": "stdout",
     "output_type": "stream",
     "text": [
      "------------------------------------\n",
      "| rollout/              |          |\n",
      "|    ep_len_mean        | 4.56     |\n",
      "|    ep_rew_mean        | -0.374   |\n",
      "|    success_rate       | 1        |\n",
      "| time/                 |          |\n",
      "|    fps                | 529      |\n",
      "|    iterations         | 1800     |\n",
      "|    time_elapsed       | 67       |\n",
      "|    total_timesteps    | 36000    |\n",
      "| train/                |          |\n",
      "|    entropy_loss       | -4.17    |\n",
      "|    explained_variance | -10.3    |\n",
      "|    learning_rate      | 0.0007   |\n",
      "|    n_updates          | 1799     |\n",
      "|    policy_loss        | 0.242    |\n",
      "|    std                | 0.972    |\n",
      "|    value_loss         | 0.0242   |\n",
      "------------------------------------\n"
     ]
    },
    {
     "name": "stdout",
     "output_type": "stream",
     "text": [
      "------------------------------------\n",
      "| rollout/              |          |\n",
      "|    ep_len_mean        | 3.88     |\n",
      "|    ep_rew_mean        | -0.32    |\n",
      "|    success_rate       | 1        |\n",
      "| time/                 |          |\n",
      "|    fps                | 530      |\n",
      "|    iterations         | 1900     |\n",
      "|    time_elapsed       | 71       |\n",
      "|    total_timesteps    | 38000    |\n",
      "| train/                |          |\n",
      "|    entropy_loss       | -4.13    |\n",
      "|    explained_variance | 0.724    |\n",
      "|    learning_rate      | 0.0007   |\n",
      "|    n_updates          | 1899     |\n",
      "|    policy_loss        | -0.114   |\n",
      "|    std                | 0.958    |\n",
      "|    value_loss         | 0.00276  |\n",
      "------------------------------------\n"
     ]
    },
    {
     "name": "stdout",
     "output_type": "stream",
     "text": [
      "------------------------------------\n",
      "| rollout/              |          |\n",
      "|    ep_len_mean        | 3.77     |\n",
      "|    ep_rew_mean        | -0.308   |\n",
      "|    success_rate       | 1        |\n",
      "| time/                 |          |\n",
      "|    fps                | 530      |\n",
      "|    iterations         | 2000     |\n",
      "|    time_elapsed       | 75       |\n",
      "|    total_timesteps    | 40000    |\n",
      "| train/                |          |\n",
      "|    entropy_loss       | -4.07    |\n",
      "|    explained_variance | -1.34    |\n",
      "|    learning_rate      | 0.0007   |\n",
      "|    n_updates          | 1999     |\n",
      "|    policy_loss        | -0.0635  |\n",
      "|    std                | 0.939    |\n",
      "|    value_loss         | 0.00484  |\n",
      "------------------------------------\n"
     ]
    },
    {
     "name": "stdout",
     "output_type": "stream",
     "text": [
      "------------------------------------\n",
      "| rollout/              |          |\n",
      "|    ep_len_mean        | 3.56     |\n",
      "|    ep_rew_mean        | -0.274   |\n",
      "|    success_rate       | 1        |\n",
      "| time/                 |          |\n",
      "|    fps                | 531      |\n",
      "|    iterations         | 2100     |\n",
      "|    time_elapsed       | 79       |\n",
      "|    total_timesteps    | 42000    |\n",
      "| train/                |          |\n",
      "|    entropy_loss       | -4.02    |\n",
      "|    explained_variance | -1.07    |\n",
      "|    learning_rate      | 0.0007   |\n",
      "|    n_updates          | 2099     |\n",
      "|    policy_loss        | -0.111   |\n",
      "|    std                | 0.924    |\n",
      "|    value_loss         | 0.00608  |\n",
      "------------------------------------\n"
     ]
    },
    {
     "name": "stdout",
     "output_type": "stream",
     "text": [
      "------------------------------------\n",
      "| rollout/              |          |\n",
      "|    ep_len_mean        | 3.54     |\n",
      "|    ep_rew_mean        | -0.293   |\n",
      "|    success_rate       | 1        |\n",
      "| time/                 |          |\n",
      "|    fps                | 531      |\n",
      "|    iterations         | 2200     |\n",
      "|    time_elapsed       | 82       |\n",
      "|    total_timesteps    | 44000    |\n",
      "| train/                |          |\n",
      "|    entropy_loss       | -3.98    |\n",
      "|    explained_variance | 0.703    |\n",
      "|    learning_rate      | 0.0007   |\n",
      "|    n_updates          | 2199     |\n",
      "|    policy_loss        | 0.0139   |\n",
      "|    std                | 0.911    |\n",
      "|    value_loss         | 0.00111  |\n",
      "------------------------------------\n"
     ]
    },
    {
     "name": "stdout",
     "output_type": "stream",
     "text": [
      "------------------------------------\n",
      "| rollout/              |          |\n",
      "|    ep_len_mean        | 2.97     |\n",
      "|    ep_rew_mean        | -0.233   |\n",
      "|    success_rate       | 1        |\n",
      "| time/                 |          |\n",
      "|    fps                | 530      |\n",
      "|    iterations         | 2300     |\n",
      "|    time_elapsed       | 86       |\n",
      "|    total_timesteps    | 46000    |\n",
      "| train/                |          |\n",
      "|    entropy_loss       | -3.92    |\n",
      "|    explained_variance | 0.633    |\n",
      "|    learning_rate      | 0.0007   |\n",
      "|    n_updates          | 2299     |\n",
      "|    policy_loss        | 0.0371   |\n",
      "|    std                | 0.893    |\n",
      "|    value_loss         | 0.00107  |\n",
      "------------------------------------\n"
     ]
    },
    {
     "name": "stdout",
     "output_type": "stream",
     "text": [
      "------------------------------------\n",
      "| rollout/              |          |\n",
      "|    ep_len_mean        | 3.33     |\n",
      "|    ep_rew_mean        | -0.281   |\n",
      "|    success_rate       | 1        |\n",
      "| time/                 |          |\n",
      "|    fps                | 530      |\n",
      "|    iterations         | 2400     |\n",
      "|    time_elapsed       | 90       |\n",
      "|    total_timesteps    | 48000    |\n",
      "| train/                |          |\n",
      "|    entropy_loss       | -3.9     |\n",
      "|    explained_variance | 0.273    |\n",
      "|    learning_rate      | 0.0007   |\n",
      "|    n_updates          | 2399     |\n",
      "|    policy_loss        | 0.0359   |\n",
      "|    std                | 0.888    |\n",
      "|    value_loss         | 0.00109  |\n",
      "------------------------------------\n"
     ]
    },
    {
     "name": "stdout",
     "output_type": "stream",
     "text": [
      "------------------------------------\n",
      "| rollout/              |          |\n",
      "|    ep_len_mean        | 3.07     |\n",
      "|    ep_rew_mean        | -0.245   |\n",
      "|    success_rate       | 1        |\n",
      "| time/                 |          |\n",
      "|    fps                | 531      |\n",
      "|    iterations         | 2500     |\n",
      "|    time_elapsed       | 94       |\n",
      "|    total_timesteps    | 50000    |\n",
      "| train/                |          |\n",
      "|    entropy_loss       | -3.86    |\n",
      "|    explained_variance | 0.885    |\n",
      "|    learning_rate      | 0.0007   |\n",
      "|    n_updates          | 2499     |\n",
      "|    policy_loss        | -0.0309  |\n",
      "|    std                | 0.876    |\n",
      "|    value_loss         | 0.000345 |\n",
      "------------------------------------\n"
     ]
    },
    {
     "data": {
      "text/html": [
       "<pre style=\"white-space:pre;overflow-x:auto;line-height:normal;font-family:Menlo,'DejaVu Sans Mono',consolas,'Courier New',monospace\"></pre>\n"
      ],
      "text/plain": []
     },
     "metadata": {},
     "output_type": "display_data"
    },
    {
     "data": {
      "text/html": [
       "<pre style=\"white-space:pre;overflow-x:auto;line-height:normal;font-family:Menlo,'DejaVu Sans Mono',consolas,'Courier New',monospace\">\n",
       "</pre>\n"
      ],
      "text/plain": [
       "\n"
      ]
     },
     "metadata": {},
     "output_type": "display_data"
    }
   ],
   "source": [
    "env = make_vec_env(env_id, n_envs=4)\n",
    "env = VecNormalize(env, norm_obs=True, norm_reward=True, clip_obs=10.0)\n",
    "\n",
    "model = A2C(policy=\"MultiInputPolicy\", env=env, verbose=1)\n",
    "model.learn(50_000, progress_bar=True)\n",
    "\n",
    "model.save(\"a2c_panda_reach\")\n",
    "env.save(\"vec_normalize.pkl\")"
   ]
  },
  {
   "cell_type": "code",
   "execution_count": 12,
   "metadata": {},
   "outputs": [
    {
     "name": "stdout",
     "output_type": "stream",
     "text": [
      "argv[0]=--background_color_red=0.8745098114013672\n",
      "argv[1]=--background_color_green=0.21176470816135406\n",
      "argv[2]=--background_color_blue=0.1764705926179886\n",
      "Mean reward = -0.21 +/- 0.09\n"
     ]
    }
   ],
   "source": [
    "# Evaluate the agent\n",
    "\n",
    "from stable_baselines3.common.vec_env import DummyVecEnv, VecNormalize\n",
    "\n",
    "eval_env = DummyVecEnv([lambda: gym.make(env_id)])\n",
    "eval_env = VecNormalize.load(\"vec_normalize.pkl\", eval_env)\n",
    "\n",
    "eval_env.render_mode = \"rgb_array\"\n",
    "eval_env.training = False\n",
    "eval_env.norm_reward = False  # not need at test time\n",
    "\n",
    "model = A2C.load(\"a2c_panda_reach\")\n",
    "mean_reward, std_reward = evaluate_policy(model, eval_env)\n",
    "\n",
    "print(f\"Mean reward = {mean_reward:.2f} +/- {std_reward:.2f}\")"
   ]
  },
  {
   "cell_type": "code",
   "execution_count": null,
   "metadata": {},
   "outputs": [],
   "source": []
  }
 ],
 "metadata": {
  "kernelspec": {
   "display_name": "rl",
   "language": "python",
   "name": "python3"
  },
  "language_info": {
   "codemirror_mode": {
    "name": "ipython",
    "version": 3
   },
   "file_extension": ".py",
   "mimetype": "text/x-python",
   "name": "python",
   "nbconvert_exporter": "python",
   "pygments_lexer": "ipython3",
   "version": "3.10.14"
  }
 },
 "nbformat": 4,
 "nbformat_minor": 2
}
